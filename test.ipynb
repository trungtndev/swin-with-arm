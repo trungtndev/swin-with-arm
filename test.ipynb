{
 "cells": [
  {
   "cell_type": "code",
   "id": "initial_id",
   "metadata": {
    "collapsed": true,
    "ExecuteTime": {
     "end_time": "2024-09-18T13:08:48.757252Z",
     "start_time": "2024-09-18T13:08:45.019055Z"
    }
   },
   "source": [
    "import torch\n",
    "from torch import dtype\n",
    "\n",
    "from comer.lit_comer import LitCoMER\n",
    "from comer.lit_swinArm import LitSwinARM\n",
    "import numpy as np\n",
    "from PIL import Image\n",
    "from torchvision import datasets, transforms                \n",
    "from comer.datamodule import CROHMEDatamodule\n",
    "\n",
    "from comer.model.swinmodule.swin_transformer import SwinTransformer\n",
    "                                            "
   ],
   "outputs": [
    {
     "name": "stderr",
     "output_type": "stream",
     "text": [
      "C:\\Users\\trung\\miniconda3\\envs\\pytorch\\lib\\site-packages\\tqdm\\auto.py:21: TqdmWarning: IProgress not found. Please update jupyter and ipywidgets. See https://ipywidgets.readthedocs.io/en/stable/user_install.html\n",
      "  from .autonotebook import tqdm as notebook_tqdm\n"
     ]
    },
    {
     "name": "stdout",
     "output_type": "stream",
     "text": [
      "[Warning] Fused window process have not been installed. Please refer to get_started.md for installation.\n"
     ]
    }
   ],
   "execution_count": 2
  },
  {
   "metadata": {
    "ExecuteTime": {
     "end_time": "2024-09-18T13:12:26.339009Z",
     "start_time": "2024-09-18T13:12:20.835606Z"
    }
   },
   "cell_type": "code",
   "source": [
    "a = CROHMEDatamodule(\"data.zip\")\n",
    "a.setup(\"fit\")"
   ],
   "id": "31e6b296f790c9e",
   "outputs": [
    {
     "name": "stdout",
     "output_type": "stream",
     "text": [
      "Load data from: data.zip\n",
      "Extract data from: train, with data size: 8834\n",
      "total  1473 batch data loaded\n",
      "Extract data from: 2014, with data size: 986\n",
      "sentence 1 length bigger than 200 ignore\n",
      "total  247 batch data loaded\n"
     ]
    }
   ],
   "execution_count": 11
  },
  {
   "metadata": {
    "ExecuteTime": {
     "end_time": "2024-09-18T13:13:03.988675Z",
     "start_time": "2024-09-18T13:13:03.960991Z"
    }
   },
   "cell_type": "code",
   "source": "a.train_dataloader().dataset.",
   "id": "815288898096a27b",
   "outputs": [
    {
     "data": {
      "text/plain": [
       "<comer.datamodule.dataset.CROHMEDataset at 0x1d9b290db80>"
      ]
     },
     "execution_count": 13,
     "metadata": {},
     "output_type": "execute_result"
    }
   ],
   "execution_count": 13
  },
  {
   "metadata": {
    "ExecuteTime": {
     "end_time": "2024-09-18T12:11:56.774391Z",
     "start_time": "2024-09-18T12:11:56.320383Z"
    }
   },
   "cell_type": "code",
   "source": [
    "model = LitSwinARM(\n",
    "    d_model=256,\n",
    "  # encoder\n",
    "    img_size=224,\n",
    "    in_chans=1,\n",
    "    embed_dim=96,\n",
    "    depth=[ 2, 2, 18, 2 ],\n",
    "    num_heads=[ 6, 12, 24, 48 ],\n",
    "    window_size=7,\n",
    "  # decoder\n",
    "  nhead= 8,\n",
    "  num_decoder_layers= 3,\n",
    "  dim_feedforward= 1024,\n",
    "  dropout= 0.3,\n",
    "  dc= 32,\n",
    "  cross_coverage= False,\n",
    "  self_coverage= True,\n",
    "  # beam search\n",
    "  beam_size= 10,\n",
    "  max_len= 200,\n",
    "  alpha= 1.0,\n",
    "  early_stopping= False,\n",
    "  temperature= 1.0,\n",
    "  # training\n",
    "  learning_rate= 0.08,\n",
    "  patience= 20,\n",
    ")"
   ],
   "id": "e28e385ecaf950cc",
   "outputs": [
    {
     "name": "stderr",
     "output_type": "stream",
     "text": [
      "C:\\Users\\trung\\miniconda3\\envs\\pytorch\\lib\\site-packages\\torch\\functional.py:513: UserWarning: torch.meshgrid: in an upcoming release, it will be required to pass the indexing argument. (Triggered internally at C:\\cb\\pytorch_1000000000000\\work\\aten\\src\\ATen\\native\\TensorShape.cpp:3610.)\n",
      "  return _VF.meshgrid(tensors, **kwargs)  # type: ignore[attr-defined]\n"
     ]
    }
   ],
   "execution_count": 2
  },
  {
   "metadata": {},
   "cell_type": "markdown",
   "source": "",
   "id": "6f755ccb97b08557"
  },
  {
   "metadata": {
    "ExecuteTime": {
     "end_time": "2024-09-18T12:13:26.038837Z",
     "start_time": "2024-09-18T12:13:25.997250Z"
    }
   },
   "cell_type": "code",
   "source": [
    "model2 = LitCoMER(\n",
    "        d_model=256,\n",
    "  # encoder\n",
    "    growth_rate=3,\n",
    "        num_layers=3,\n",
    "  # decoder\n",
    "  nhead= 8,\n",
    "  num_decoder_layers= 3,\n",
    "  dim_feedforward= 1024,\n",
    "  dropout= 0.3,\n",
    "  dc= 32,\n",
    "  cross_coverage= False,\n",
    "  self_coverage= True,\n",
    "  # beam search\n",
    "  beam_size= 10,\n",
    "  max_len= 200,\n",
    "  alpha= 1.0,\n",
    "  early_stopping= False,\n",
    "  temperature= 1.0,\n",
    "  # training\n",
    "  learning_rate= 0.08,\n",
    "  patience= 20,\n",
    ")"
   ],
   "id": "5bd550aaba962460",
   "outputs": [],
   "execution_count": 5
  },
  {
   "metadata": {
    "ExecuteTime": {
     "end_time": "2024-09-18T12:11:56.883767Z",
     "start_time": "2024-09-18T12:11:56.868144Z"
    }
   },
   "cell_type": "code",
   "source": [
    "img = torch.randn(3, 1, 224, 224)\n",
    "img_mask = torch.ones(3, 224, 224, dtype=torch.bool)\n",
    "tgt = torch.randint(0, 5, (2 * 3, 100)).long()\n"
   ],
   "id": "4adab502a8e14861",
   "outputs": [],
   "execution_count": 3
  },
  {
   "metadata": {},
   "cell_type": "markdown",
   "source": "",
   "id": "68131f3a7befd08f"
  },
  {
   "metadata": {},
   "cell_type": "markdown",
   "source": "",
   "id": "de1b5f188586b689"
  },
  {
   "metadata": {
    "ExecuteTime": {
     "end_time": "2024-09-18T12:13:41.143423Z",
     "start_time": "2024-09-18T12:13:41.028042Z"
    }
   },
   "cell_type": "code",
   "source": "model2(img, img_mask, tgt)",
   "id": "8868593d6a0b7cdd",
   "outputs": [
    {
     "name": "stdout",
     "output_type": "stream",
     "text": [
      "torch.Size([6, 14, 14, 256]) torch.Size([6, 14, 14])\n"
     ]
    },
    {
     "data": {
      "text/plain": [
       "tensor([[[nan, nan, nan,  ..., nan, nan, nan],\n",
       "         [nan, nan, nan,  ..., nan, nan, nan],\n",
       "         [nan, nan, nan,  ..., nan, nan, nan],\n",
       "         ...,\n",
       "         [nan, nan, nan,  ..., nan, nan, nan],\n",
       "         [nan, nan, nan,  ..., nan, nan, nan],\n",
       "         [nan, nan, nan,  ..., nan, nan, nan]],\n",
       "\n",
       "        [[nan, nan, nan,  ..., nan, nan, nan],\n",
       "         [nan, nan, nan,  ..., nan, nan, nan],\n",
       "         [nan, nan, nan,  ..., nan, nan, nan],\n",
       "         ...,\n",
       "         [nan, nan, nan,  ..., nan, nan, nan],\n",
       "         [nan, nan, nan,  ..., nan, nan, nan],\n",
       "         [nan, nan, nan,  ..., nan, nan, nan]],\n",
       "\n",
       "        [[nan, nan, nan,  ..., nan, nan, nan],\n",
       "         [nan, nan, nan,  ..., nan, nan, nan],\n",
       "         [nan, nan, nan,  ..., nan, nan, nan],\n",
       "         ...,\n",
       "         [nan, nan, nan,  ..., nan, nan, nan],\n",
       "         [nan, nan, nan,  ..., nan, nan, nan],\n",
       "         [nan, nan, nan,  ..., nan, nan, nan]],\n",
       "\n",
       "        [[nan, nan, nan,  ..., nan, nan, nan],\n",
       "         [nan, nan, nan,  ..., nan, nan, nan],\n",
       "         [nan, nan, nan,  ..., nan, nan, nan],\n",
       "         ...,\n",
       "         [nan, nan, nan,  ..., nan, nan, nan],\n",
       "         [nan, nan, nan,  ..., nan, nan, nan],\n",
       "         [nan, nan, nan,  ..., nan, nan, nan]],\n",
       "\n",
       "        [[nan, nan, nan,  ..., nan, nan, nan],\n",
       "         [nan, nan, nan,  ..., nan, nan, nan],\n",
       "         [nan, nan, nan,  ..., nan, nan, nan],\n",
       "         ...,\n",
       "         [nan, nan, nan,  ..., nan, nan, nan],\n",
       "         [nan, nan, nan,  ..., nan, nan, nan],\n",
       "         [nan, nan, nan,  ..., nan, nan, nan]],\n",
       "\n",
       "        [[nan, nan, nan,  ..., nan, nan, nan],\n",
       "         [nan, nan, nan,  ..., nan, nan, nan],\n",
       "         [nan, nan, nan,  ..., nan, nan, nan],\n",
       "         ...,\n",
       "         [nan, nan, nan,  ..., nan, nan, nan],\n",
       "         [nan, nan, nan,  ..., nan, nan, nan],\n",
       "         [nan, nan, nan,  ..., nan, nan, nan]]], grad_fn=<AddBackward0>)"
      ]
     },
     "execution_count": 6,
     "metadata": {},
     "output_type": "execute_result"
    }
   ],
   "execution_count": 6
  },
  {
   "metadata": {
    "ExecuteTime": {
     "end_time": "2024-09-18T12:11:57.165015Z",
     "start_time": "2024-09-18T12:11:56.915017Z"
    }
   },
   "cell_type": "code",
   "source": "model(img, img_mask, tgt)",
   "id": "587752e06488fa21",
   "outputs": [
    {
     "name": "stdout",
     "output_type": "stream",
     "text": [
      "torch.Size([6, 7, 7, 256]) torch.Size([6, 7, 7])\n"
     ]
    },
    {
     "data": {
      "text/plain": [
       "tensor([[[nan, nan, nan,  ..., nan, nan, nan],\n",
       "         [nan, nan, nan,  ..., nan, nan, nan],\n",
       "         [nan, nan, nan,  ..., nan, nan, nan],\n",
       "         ...,\n",
       "         [nan, nan, nan,  ..., nan, nan, nan],\n",
       "         [nan, nan, nan,  ..., nan, nan, nan],\n",
       "         [nan, nan, nan,  ..., nan, nan, nan]],\n",
       "\n",
       "        [[nan, nan, nan,  ..., nan, nan, nan],\n",
       "         [nan, nan, nan,  ..., nan, nan, nan],\n",
       "         [nan, nan, nan,  ..., nan, nan, nan],\n",
       "         ...,\n",
       "         [nan, nan, nan,  ..., nan, nan, nan],\n",
       "         [nan, nan, nan,  ..., nan, nan, nan],\n",
       "         [nan, nan, nan,  ..., nan, nan, nan]],\n",
       "\n",
       "        [[nan, nan, nan,  ..., nan, nan, nan],\n",
       "         [nan, nan, nan,  ..., nan, nan, nan],\n",
       "         [nan, nan, nan,  ..., nan, nan, nan],\n",
       "         ...,\n",
       "         [nan, nan, nan,  ..., nan, nan, nan],\n",
       "         [nan, nan, nan,  ..., nan, nan, nan],\n",
       "         [nan, nan, nan,  ..., nan, nan, nan]],\n",
       "\n",
       "        [[nan, nan, nan,  ..., nan, nan, nan],\n",
       "         [nan, nan, nan,  ..., nan, nan, nan],\n",
       "         [nan, nan, nan,  ..., nan, nan, nan],\n",
       "         ...,\n",
       "         [nan, nan, nan,  ..., nan, nan, nan],\n",
       "         [nan, nan, nan,  ..., nan, nan, nan],\n",
       "         [nan, nan, nan,  ..., nan, nan, nan]],\n",
       "\n",
       "        [[nan, nan, nan,  ..., nan, nan, nan],\n",
       "         [nan, nan, nan,  ..., nan, nan, nan],\n",
       "         [nan, nan, nan,  ..., nan, nan, nan],\n",
       "         ...,\n",
       "         [nan, nan, nan,  ..., nan, nan, nan],\n",
       "         [nan, nan, nan,  ..., nan, nan, nan],\n",
       "         [nan, nan, nan,  ..., nan, nan, nan]],\n",
       "\n",
       "        [[nan, nan, nan,  ..., nan, nan, nan],\n",
       "         [nan, nan, nan,  ..., nan, nan, nan],\n",
       "         [nan, nan, nan,  ..., nan, nan, nan],\n",
       "         ...,\n",
       "         [nan, nan, nan,  ..., nan, nan, nan],\n",
       "         [nan, nan, nan,  ..., nan, nan, nan],\n",
       "         [nan, nan, nan,  ..., nan, nan, nan]]], grad_fn=<AddBackward0>)"
      ]
     },
     "execution_count": 4,
     "metadata": {},
     "output_type": "execute_result"
    }
   ],
   "execution_count": 4
  },
  {
   "metadata": {},
   "cell_type": "markdown",
   "source": "",
   "id": "a0771c06215411ab"
  }
 ],
 "metadata": {
  "kernelspec": {
   "display_name": "Python 3",
   "language": "python",
   "name": "python3"
  },
  "language_info": {
   "codemirror_mode": {
    "name": "ipython",
    "version": 2
   },
   "file_extension": ".py",
   "mimetype": "text/x-python",
   "name": "python",
   "nbconvert_exporter": "python",
   "pygments_lexer": "ipython2",
   "version": "2.7.6"
  }
 },
 "nbformat": 4,
 "nbformat_minor": 5
}
