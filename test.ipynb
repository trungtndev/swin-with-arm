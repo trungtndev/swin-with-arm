{
 "cells": [
  {
   "cell_type": "code",
   "id": "initial_id",
   "metadata": {
    "collapsed": true,
    "ExecuteTime": {
     "end_time": "2024-09-22T08:09:17.709700Z",
     "start_time": "2024-09-22T08:09:12.967665Z"
    }
   },
   "source": [
    "import torch\n",
    "from swinArm.model.swinv1pretrainencoder import SwinV1Encoder\n",
    "import numpy as np\n",
    "from PIL import Image\n",
    "import timm\n",
    "      "
   ],
   "outputs": [
    {
     "name": "stderr",
     "output_type": "stream",
     "text": [
      "C:\\Users\\trung\\miniconda3\\envs\\pytorch\\lib\\site-packages\\tqdm\\auto.py:21: TqdmWarning: IProgress not found. Please update jupyter and ipywidgets. See https://ipywidgets.readthedocs.io/en/stable/user_install.html\n",
      "  from .autonotebook import tqdm as notebook_tqdm\n"
     ]
    }
   ],
   "execution_count": 1
  },
  {
   "metadata": {},
   "cell_type": "markdown",
   "source": "",
   "id": "a0771c06215411ab"
  },
  {
   "metadata": {
    "ExecuteTime": {
     "end_time": "2024-09-22T08:09:19.237554Z",
     "start_time": "2024-09-22T08:09:17.718181Z"
    }
   },
   "cell_type": "code",
   "source": [
    "a = timm.create_model('swin_base_patch4_window7_224', pretrained=True)\n",
    "\n",
    "\n"
   ],
   "id": "d4f4d028b07f8491",
   "outputs": [],
   "execution_count": 2
  },
  {
   "metadata": {
    "ExecuteTime": {
     "end_time": "2024-09-22T08:09:52.551117Z",
     "start_time": "2024-09-22T08:09:52.519870Z"
    }
   },
   "cell_type": "code",
   "source": "a.default_cfg",
   "id": "df8d2fcfaab0c5e0",
   "outputs": [
    {
     "data": {
      "text/plain": [
       "{'url': 'https://github.com/SwinTransformer/storage/releases/download/v1.0.0/swin_base_patch4_window7_224_22kto1k.pth',\n",
       " 'hf_hub_id': 'timm/swin_base_patch4_window7_224.ms_in22k_ft_in1k',\n",
       " 'architecture': 'swin_base_patch4_window7_224',\n",
       " 'tag': 'ms_in22k_ft_in1k',\n",
       " 'custom_load': False,\n",
       " 'input_size': (3, 224, 224),\n",
       " 'fixed_input_size': True,\n",
       " 'interpolation': 'bicubic',\n",
       " 'crop_pct': 0.9,\n",
       " 'crop_mode': 'center',\n",
       " 'mean': (0.485, 0.456, 0.406),\n",
       " 'std': (0.229, 0.224, 0.225),\n",
       " 'num_classes': 1000,\n",
       " 'pool_size': (7, 7),\n",
       " 'first_conv': 'patch_embed.proj',\n",
       " 'classifier': 'head.fc',\n",
       " 'license': 'mit'}"
      ]
     },
     "execution_count": 3,
     "metadata": {},
     "output_type": "execute_result"
    }
   ],
   "execution_count": 3
  },
  {
   "metadata": {},
   "cell_type": "code",
   "outputs": [],
   "execution_count": null,
   "source": "",
   "id": "6bc004495c7568d4"
  }
 ],
 "metadata": {
  "kernelspec": {
   "display_name": "Python 3",
   "language": "python",
   "name": "python3"
  },
  "language_info": {
   "codemirror_mode": {
    "name": "ipython",
    "version": 2
   },
   "file_extension": ".py",
   "mimetype": "text/x-python",
   "name": "python",
   "nbconvert_exporter": "python",
   "pygments_lexer": "ipython2",
   "version": "2.7.6"
  }
 },
 "nbformat": 4,
 "nbformat_minor": 5
}
